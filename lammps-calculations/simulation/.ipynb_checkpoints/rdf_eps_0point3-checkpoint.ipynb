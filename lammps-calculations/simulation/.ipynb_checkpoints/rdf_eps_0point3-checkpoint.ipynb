{
 "cells": [
  {
   "cell_type": "code",
   "execution_count": 30,
   "metadata": {},
   "outputs": [],
   "source": [
    "# Import statements for required libraries\n",
    "import matplotlib.pyplot as plt\n",
    "import scipy as sp\n",
    "import numpy as np"
   ]
  },
  {
   "cell_type": "code",
   "execution_count": 31,
   "metadata": {},
   "outputs": [
    {
     "name": "stdout",
     "output_type": "stream",
     "text": [
      "512\n"
     ]
    }
   ],
   "source": [
    "# Open the file\n",
    "with open('sys_npt.lammpstrj', 'r') as f:\n",
    "    data = f.readlines()\n",
    "n_atoms = int(data[3].strip()) # Total number of atoms in the system\n",
    "print(n_atoms)"
   ]
  },
  {
   "cell_type": "code",
   "execution_count": 32,
   "metadata": {},
   "outputs": [],
   "source": [
    "# Helper function to return a list of coordinates for the\n",
    "# frame of interest. `start` and `end` variables are the line\n",
    "# numbers to read.\n",
    "\n",
    "def get_cordinates_for_frame(data, start, end, box_size):\n",
    "    coordinates = []\n",
    "    for l in data[start: end+1]:\n",
    "        s = l.split()\n",
    "        try:\n",
    "            if int(s[1]) == 1:\n",
    "                coordinates.append([float(s[2])*box_size, float(s[3])*box_size, float(s[4])*box_size])\n",
    "        except:\n",
    "            continue\n",
    "    return coordinates"
   ]
  },
  {
   "cell_type": "code",
   "execution_count": 33,
   "metadata": {},
   "outputs": [],
   "source": [
    "def get_box_size(data, line_n):\n",
    "    line = data[line_n]\n",
    "    segments = line.split()\n",
    "    print(float(segments[0]))\n",
    "    box_size = float(segments[1]) - float(segments[0])\n",
    "    return box_size"
   ]
  },
  {
   "cell_type": "code",
   "execution_count": 34,
   "metadata": {},
   "outputs": [],
   "source": [
    "# Helper function to calculate the distance between atoms\n",
    "# keeping in mind the boundary conditions\n",
    "\n",
    "def distance_between_points(p, q):\n",
    "    distance_x = abs(p[0] - q[0])\n",
    "    distance_x = min(distance_x, abs(box_size - distance_x))\n",
    "    distance_y = abs(p[1] - q[1])\n",
    "    distance_y = min(distance_y, abs(box_size - distance_y))\n",
    "    distance_z = abs(p[2] - q[2])\n",
    "    distance_z = min(distance_z, abs(box_size - distance_z))\n",
    "    \n",
    "    return np.lib.scimath.sqrt(distance_x**2 + distance_y**2 + distance_z**2)"
   ]
  },
  {
   "cell_type": "code",
   "execution_count": 35,
   "metadata": {},
   "outputs": [],
   "source": [
    "# Initialise the calculation\n",
    "\n",
    "n_bins = 1000\n",
    "n_frames = 1000\n",
    "increment = box_size / (2 * n_bins)\n",
    "r_cut = box_size / 2"
   ]
  },
  {
   "cell_type": "code",
   "execution_count": 36,
   "metadata": {},
   "outputs": [],
   "source": [
    "# Loop over all the frames and for each frame and find the distribution of distances\n",
    "\n",
    "def get_distribution():\n",
    "    distribution = np.zeros(n_bins)\n",
    "    box_sizes = []\n",
    "\n",
    "    # skip first \n",
    "    for k in range(100,n_frames):\n",
    "        start = k*n_atoms + (k+1)*9\n",
    "        end = start + n_atoms\n",
    "        coordinates = []\n",
    "        box_size = get_box_size(data, start-2)\n",
    "        box_sizes.append(box_size)\n",
    "        print(k)\n",
    "        coordinates = get_cordinates_for_frame(data, start, end, box_size)\n",
    "        n_particles = len(coordinates)\n",
    "        for i in range(n_particles-1):\n",
    "            for j in range(i+1, n_particles):\n",
    "                distance = distance_between_points(coordinates[i], coordinates[j])\n",
    "                if distance < (r_cut):\n",
    "                    ig = int(distance / increment)\n",
    "                    distribution[ig] = distribution[ig] + 2\n",
    "    return distribution, box_sizes"
   ]
  },
  {
   "cell_type": "code",
   "execution_count": 37,
   "metadata": {},
   "outputs": [],
   "source": [
    "def get_volumes():\n",
    "    volumes = np.zeros(n_bins)\n",
    "    for j in range(n_bins):\n",
    "        r1 = j * increment\n",
    "        r2 = r1 + increment\n",
    "        vol_bin = (4/3) * sp.pi * (r2**3 - r1**3)\n",
    "        volumes[j] = vol_bin\n",
    "    return volumes"
   ]
  },
  {
   "cell_type": "code",
   "execution_count": null,
   "metadata": {},
   "outputs": [],
   "source": [
    "# Calculate g(r) by normalising the distribution\n",
    "distribution, box_sizes = get_distribution()\n",
    "volumes = get_volumes()\n",
    "avg_box_size = sum(box_sizes)/ len(box_sizes)\n",
    "\n",
    "for j in range(n_bins):\n",
    "    distribution[j] = distribution[j]/900\n",
    "\n",
    "for j in range(n_bins):\n",
    "    vol_bin = volumes[j]\n",
    "    density = n_atoms / (avg_box_size**3)\n",
    "    n_ideal = vol_bin * density\n",
    "    distribution[j] = distribution[j] / n_ideal\n",
    "    distribution[j] = distribution[j] / n_atoms"
   ]
  },
  {
   "cell_type": "code",
   "execution_count": 39,
   "metadata": {},
   "outputs": [
    {
     "data": {
      "image/png": "[encoded data removed]",
      "text/plain": [
       "<Figure size 432x288 with 1 Axes>"
      ]
     },
     "metadata": {
      "needs_background": "light"
     },
     "output_type": "display_data"
    },
    {
     "name": "stdout",
     "output_type": "stream",
     "text": [
      "CALCULATED USING TRAJECTORY\n"
     ]
    }
   ],
   "source": [
    "## CALCULATION USING PYTHON AND THE TRAJECTORY\n",
    "\n",
    "radii = np.linspace(0.0, n_bins*increment, n_bins)\n",
    "plt.xlabel('r (Å)')\n",
    "plt.ylabel('g$_{O-O}$(r)')\n",
    "plt.plot(radii, distribution)\n",
    "plt.show()\n",
    "print(\"CALCULATED USING TRAJECTORY\")"
   ]
  },
  {
   "cell_type": "code",
   "execution_count": 17,
   "metadata": {},
   "outputs": [],
   "source": [
    "# Open the lammps rdf file\n",
    "with open('system.rdf', 'r') as f:\n",
    "    data = f.readlines()"
   ]
  },
  {
   "cell_type": "code",
   "execution_count": 18,
   "metadata": {},
   "outputs": [],
   "source": [
    "# Read all the lines and get the x and y values\n",
    "x = []\n",
    "y = []\n",
    "for l in data[200:]:\n",
    "    s = l.split()\n",
    "    x.append(float(s[1]))\n",
    "    y.append(float(s[2]))"
   ]
  },
  {
   "cell_type": "code",
   "execution_count": 19,
   "metadata": {},
   "outputs": [
    {
     "data": {
      "image/png": "[encoded data removed]",
      "text/plain": [
       "<Figure size 432x288 with 1 Axes>"
      ]
     },
     "metadata": {
      "needs_background": "light"
     },
     "output_type": "display_data"
    },
    {
     "name": "stdout",
     "output_type": "stream",
     "text": [
      "CALCULATED USING LAMMPS RDF OUTPUT\n"
     ]
    }
   ],
   "source": [
    "## CALCULATION USING LAMMPS RDF FILE\n",
    "\n",
    "\n",
    "import matplotlib.pyplot as plt\n",
    "plt.plot(x, y)\n",
    "plt.show()\n",
    "print(\"CALCULATED USING LAMMPS RDF OUTPUT\")"
   ]
  },
  {
   "cell_type": "code",
   "execution_count": null,
   "metadata": {},
   "outputs": [],
   "source": []
  }
 ],
 "metadata": {
  "kernelspec": {
   "display_name": "Python 3",
   "language": "python",
   "name": "python3"
  },
  "language_info": {
   "codemirror_mode": {
    "name": "ipython",
    "version": 3
   },
   "file_extension": ".py",
   "mimetype": "text/x-python",
   "name": "python",
   "nbconvert_exporter": "python",
   "pygments_lexer": "ipython3",
   "version": "3.7.3"
  }
 },
 "nbformat": 4,
 "nbformat_minor": 4
}
