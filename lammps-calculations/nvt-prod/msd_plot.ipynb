{
 "cells": [
  {
   "cell_type": "code",
   "execution_count": 1,
   "metadata": {},
   "outputs": [
    {
     "name": "stdout",
     "output_type": "stream",
     "text": [
      "502\n"
     ]
    }
   ],
   "source": [
    "# Open the file\n",
    "with open('msd.res.txt', 'r') as f:\n",
    "    data = f.readlines()\n",
    "steps = len(data) # Total number of atoms in the system\n",
    "print(steps)"
   ]
  },
  {
   "cell_type": "code",
   "execution_count": 2,
   "metadata": {},
   "outputs": [],
   "source": [
    "def get_msd_val(line_number):\n",
    "    l = data[line_number]\n",
    "    segments = l.split()\n",
    "    return float(segments[6])"
   ]
  },
  {
   "cell_type": "code",
   "execution_count": 3,
   "metadata": {},
   "outputs": [],
   "source": [
    "# Generate 10 sets\n",
    "\n",
    "sets = []\n",
    "resetter = 0\n",
    "subtracter = 0\n",
    "while (resetter+50) < len(data):\n",
    "    single_set = []\n",
    "    for j in range(resetter, resetter+50):\n",
    "        single_set.append(get_msd_val(j) - subtracter)\n",
    "    sets.append(single_set)\n",
    "    resetter = resetter + 10\n",
    "    subtracter = get_msd_val(resetter)"
   ]
  },
  {
   "cell_type": "code",
   "execution_count": 4,
   "metadata": {},
   "outputs": [
    {
     "name": "stdout",
     "output_type": "stream",
     "text": [
      "[0.0, 0.024464790195652297, 0.07440877978260856, 0.11606065304347817, 0.15148611717391303, 0.20795338369565217, 0.23206211369565208, 0.2942319967391303, 0.33798285673913037, 0.3682890978260871, 0.4205028260869565, 0.44542961000000014, 0.4940680991304346, 0.5357006589130433, 0.5701575545652174, 0.6260738182608694, 0.6505595089130434, 0.7131132069565216, 0.7556443845652173, 0.788034970434783, 0.8412887600000001, 0.8645436519565225, 0.9151703889130434, 0.9594544632608695, 0.9923363947826089, 1.0501789252173914, 1.0711679752173913, 1.134682640434783, 1.1753264556521739, 1.2087811143478262, 1.263696438260869, 1.2863399513043476, 1.335015377391304, 1.3803812773913047, 1.4081310382608694, 1.4628410665217386, 1.4831666034782607, 1.54956543826087, 1.593208244782609, 1.6262184643478268, 1.678697220869565, 1.700978723043479, 1.7519365143478256, 1.796704216521739, 1.8238716904347823, 1.8809021208695655, 1.9034789360869568, 1.9683117578260876, 2.0142906382608685, 2.0513783556521745]\n"
     ]
    }
   ],
   "source": [
    "avg_set = []\n",
    "for i in range(50):\n",
    "    summ = 0\n",
    "    for j in range(len(sets)):\n",
    "        summ += sets[j][i]\n",
    "    avg = summ/len(sets)\n",
    "    avg_set.append(avg)\n",
    "print(avg_set)"
   ]
  },
  {
   "cell_type": "code",
   "execution_count": 5,
   "metadata": {},
   "outputs": [
    {
     "data": {
      "image/png": "[encoded data removed]",
      "text/plain": [
       "<Figure size 432x288 with 1 Axes>"
      ]
     },
     "metadata": {
      "needs_background": "light"
     },
     "output_type": "display_data"
    },
    {
     "name": "stdout",
     "output_type": "stream",
     "text": [
      "Slope:  0.04192770323950834\n"
     ]
    }
   ],
   "source": [
    "import matplotlib.pyplot as plt\n",
    "import numpy as np\n",
    "plt.plot(avg_set)\n",
    "plt.show()\n",
    "\n",
    "s, i = np.polyfit([i for i in range(50)], avg_set, 1)\n",
    "print(\"Slope: \", s)"
   ]
  },
  {
   "cell_type": "code",
   "execution_count": null,
   "metadata": {},
   "outputs": [],
   "source": []
  }
 ],
 "metadata": {
  "kernelspec": {
   "display_name": "Python 3",
   "language": "python",
   "name": "python3"
  },
  "language_info": {
   "codemirror_mode": {
    "name": "ipython",
    "version": 3
   },
   "file_extension": ".py",
   "mimetype": "text/x-python",
   "name": "python",
   "nbconvert_exporter": "python",
   "pygments_lexer": "ipython3",
   "version": "3.8.1"
  }
 },
 "nbformat": 4,
 "nbformat_minor": 4
}
