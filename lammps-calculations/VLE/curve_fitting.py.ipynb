{
 "cells": [
  {
   "cell_type": "code",
   "execution_count": 19,
   "metadata": {},
   "outputs": [],
   "source": [
    "# Get values at t = 0.1\n",
    "x = []\n",
    "y = []\n",
    "for i in [\"0.1\"]:\n",
    "    filename = \"out.profile.density.{}.data\".format(i)\n",
    "    with open(filename, 'r') as f:\n",
    "        data = f.readlines()\n",
    "    data1 = data[4:]\n",
    "    data2 = data1[1201:]\n",
    "    data1 = data1[:1200]\n",
    "    xl = []\n",
    "    yl = []\n",
    "    xl2 = []\n",
    "    yl2 = []\n",
    "    for l in range(1200):\n",
    "        if float(data1[l].split()[1]) > 0:\n",
    "            xl2.append(float(data1[l].split()[1]))\n",
    "            yl2.append((float(data1[l].split()[3]) + float(data2[l].split()[3]))/2)\n",
    "            continue\n",
    "        xl.append(float(data1[l].split()[1]))\n",
    "        yl.append((float(data1[l].split()[3]) + float(data2[l].split()[3]))/2)\n",
    "    x.append(xl)\n",
    "    x.append(xl2)\n",
    "    y.append(yl)\n",
    "    y.append(yl2)"
   ]
  },
  {
   "cell_type": "code",
   "execution_count": 20,
   "metadata": {},
   "outputs": [],
   "source": [
    "from scipy.optimize import curve_fit \n",
    "  \n",
    "from matplotlib import pyplot as plt"
   ]
  },
  {
   "cell_type": "code",
   "execution_count": 21,
   "metadata": {},
   "outputs": [],
   "source": [
    "import numpy as np\n",
    "def fitting_func(x, pl, pv, zl, d): \n",
    "    return (1/2)*(pl + pv) + (1/2)*(pl-pv)*np.tanh((x-zl)/d)"
   ]
  },
  {
   "cell_type": "code",
   "execution_count": 22,
   "metadata": {},
   "outputs": [],
   "source": [
    "param1, param_cov = curve_fit(fitting_func, x[0], y[0])\n",
    "param2, param_cov2 = curve_fit(fitting_func, x[1], y[1])"
   ]
  },
  {
   "cell_type": "code",
   "execution_count": 23,
   "metadata": {},
   "outputs": [
    {
     "name": "stdout",
     "output_type": "stream",
     "text": [
      "For first interface:\n",
      "pl:  0.9900612458474716\n",
      "pv:  0.0003212509582158482\n",
      "zl:  -9.212750047950246\n",
      "d:  0.12378514553787352\n"
     ]
    }
   ],
   "source": [
    "print(\"For first interface:\")\n",
    "print(\"pl: \",float(param1[0]))\n",
    "print(\"pv: \",float(param1[1]))\n",
    "print(\"zl: \",float(param1[2]))\n",
    "print(\"d: \", float(param1[3]))"
   ]
  },
  {
   "cell_type": "code",
   "execution_count": 25,
   "metadata": {},
   "outputs": [
    {
     "name": "stdout",
     "output_type": "stream",
     "text": [
      "For Second interface:\n",
      "pl:  1.0053625032229279\n",
      "pv:  0.0010762968846000289\n",
      "zl:  9.069601159308254\n",
      "d:  0.13402392226462417\n"
     ]
    }
   ],
   "source": [
    "print(\"For Second interface:\")\n",
    "print(\"pl: \",float(param2[1]))\n",
    "print(\"pv: \",float(param2[0]))\n",
    "print(\"zl: \",float(param2[2]))\n",
    "print(\"d: \", float(param2[3]))"
   ]
  },
  {
   "cell_type": "code",
   "execution_count": null,
   "metadata": {},
   "outputs": [],
   "source": []
  }
 ],
 "metadata": {
  "kernelspec": {
   "display_name": "Python 3",
   "language": "python",
   "name": "python3"
  },
  "language_info": {
   "codemirror_mode": {
    "name": "ipython",
    "version": 3
   },
   "file_extension": ".py",
   "mimetype": "text/x-python",
   "name": "python",
   "nbconvert_exporter": "python",
   "pygments_lexer": "ipython3",
   "version": "3.8.1"
  }
 },
 "nbformat": 4,
 "nbformat_minor": 4
}
